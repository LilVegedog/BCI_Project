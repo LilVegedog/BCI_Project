{
 "cells": [
  {
   "cell_type": "code",
   "execution_count": 4,
   "metadata": {},
   "outputs": [
    {
     "name": "stdout",
     "output_type": "stream",
     "text": [
      "Keys: <KeysViewHDF5 ['AsynchronData', 'RawData', 'SavedFeatues', 'Version']>\n",
      "\n",
      "Groups in the HDF5 file:\n",
      "['AsynchronData', 'RawData', 'SavedFeatues', 'Version']\n",
      "\n",
      "Groups and datasets in the HDF5 file:\n",
      "AsynchronData <HDF5 group \"/AsynchronData\" (1 members)>\n",
      "RawData <HDF5 group \"/RawData\" (6 members)>\n",
      "SavedFeatues <HDF5 group \"/SavedFeatues\" (1 members)>\n",
      "Version <HDF5 group \"/Version\" (1 members)>\n",
      "\n",
      "Datasets in the RawData group:\n",
      "['AcquisitionTaskDescription', 'DAQDeviceCapabilities', 'DAQDeviceDescription', 'Samples', 'SessionDescription', 'SubjectDescription']\n",
      "\n",
      "Subgroups and datasets in the RawData group:\n"
     ]
    }
   ],
   "source": [
    "# read hdf5 file and plot the data\n",
    "import h5py\n",
    "\n",
    "# read the file\n",
    "datafile_path = \"../../data/\"\n",
    "filename = datafile_path + \"eye closed2023.11.29_11.05.35.hdf5\"\n",
    "\n",
    "# Save the XML data to a new file\n",
    "def SaveXML(data, filename):\n",
    "    # Define the output XML file path\n",
    "    output_xml_file = filename\n",
    "    # Write the XML data to a new file\n",
    "    with open(output_xml_file, 'w') as xml_file:\n",
    "        xml_file.write(data.decode('UTF-8'))\n",
    "\n",
    "# Open the HDF5 file for reading\n",
    "with h5py.File(filename, \"r\") as f:\n",
    "    # Print all root level object names (aka keys) \n",
    "    # these can be group or dataset names \n",
    "    print(\"Keys: %s\" % f.keys())\n",
    "\n",
    "    # List all the groups in the file\n",
    "    print(\"\\nGroups in the HDF5 file:\")\n",
    "    print(list(f.keys()))\n",
    "\n",
    "    # Print all the groups and datasets\n",
    "    print(\"\\nGroups and datasets in the HDF5 file:\")\n",
    "    for key in f.keys():\n",
    "        print(key, f[key])\n",
    "    # Print al the datasets in the RawData group\n",
    "    print(\"\\nDatasets in the RawData group:\")\n",
    "    print(list(f['RawData'].keys()))\n",
    "\n",
    "    # Access a specific group\n",
    "    data_samples = f['RawData']['Samples'][:]\n",
    "    # Get all the data under the RawData group\n",
    "    data_raw = f['RawData']\n",
    "    # Print all the subgroups and datasets in the RawData group\n",
    "    print(\"\\nSubgroups and datasets in the RawData group:\")\n",
    "    for key in data_raw.keys():\n",
    "        # Save the XML data to a new file except for the Samples dataset\n",
    "        if key != 'Samples':\n",
    "            data = data_raw[key][:][0]\n",
    "            SaveXML(data, datafile_path + key + \".xml\")"
   ]
  },
  {
   "cell_type": "code",
   "execution_count": null,
   "metadata": {},
   "outputs": [],
   "source": [
    "# Data groups and datasets visualization\n",
    "data_dict = {\n",
    "    'AsynchronData': 'AsynchronSignalTypes', \n",
    "    'RawData': {\n",
    "        0: 'AcquisitionTaskDescription',\n",
    "        1: 'DAQDeviceCapabilities',\n",
    "        2: 'DAQDeviceDescription',\n",
    "        3: 'Samples',\n",
    "        4: 'SessionDescription',\n",
    "        5: 'SubjectDescription',\n",
    "    },\n",
    "    \"SavedFeatues\": \"NumberOfFeatures\",     # [0]\n",
    "    \"Version\": \"Version\",                   # [b'0.5']\n",
    "}"
   ]
  }
 ],
 "metadata": {
  "kernelspec": {
   "display_name": "Python 3",
   "language": "python",
   "name": "python3"
  },
  "language_info": {
   "codemirror_mode": {
    "name": "ipython",
    "version": 3
   },
   "file_extension": ".py",
   "mimetype": "text/x-python",
   "name": "python",
   "nbconvert_exporter": "python",
   "pygments_lexer": "ipython3",
   "version": "3.10.2"
  }
 },
 "nbformat": 4,
 "nbformat_minor": 2
}
