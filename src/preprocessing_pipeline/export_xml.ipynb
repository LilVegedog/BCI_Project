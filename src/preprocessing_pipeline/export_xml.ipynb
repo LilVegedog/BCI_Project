{
 "cells": [
  {
   "cell_type": "markdown",
   "metadata": {},
   "source": [
    "# Export XML from Raw Data"
   ]
  },
  {
   "cell_type": "code",
   "execution_count": 25,
   "metadata": {},
   "outputs": [
    {
     "name": "stdout",
     "output_type": "stream",
     "text": [
      "Keys: <KeysViewHDF5 ['AsynchronData', 'RawData', 'SavedFeatues', 'Version']>\n",
      "\n",
      "Groups in the HDF5 file:\n",
      "['AsynchronData', 'RawData', 'SavedFeatues', 'Version']\n",
      "\n",
      "Groups and datasets in the HDF5 file:\n",
      "AsynchronData <HDF5 group \"/AsynchronData\" (1 members)>\n",
      "RawData <HDF5 group \"/RawData\" (6 members)>\n",
      "SavedFeatues <HDF5 group \"/SavedFeatues\" (1 members)>\n",
      "Version <HDF5 group \"/Version\" (1 members)>\n",
      "\n",
      "Datasets in the RawData group:\n",
      "['AcquisitionTaskDescription', 'DAQDeviceCapabilities', 'DAQDeviceDescription', 'Samples', 'SessionDescription', 'SubjectDescription']\n",
      "\n",
      "Subgroups and datasets in the RawData group:\n"
     ]
    }
   ],
   "source": [
    "# read hdf5 file and plot the data\n",
    "import h5py\n",
    "\n",
    "# read the file\n",
    "datafile_path = \"../../data/\"\n",
    "filename = \"eye closed2023.11.29_11.05.35.hdf5\"\n",
    "# filename = \"eye open2023.11.29_10.56.28.hdf5\"\n",
    "# filename = \"neck movement bottom left2024.03.01_10.53.24.hdf5\"\n",
    "# filename = \"neck movement bottom right2024.03.01_10.43.37.hdf5\"\n",
    "\n",
    "full_path = datafile_path + filename\n",
    "\n",
    "# Save the XML data to a new file\n",
    "def SaveXML(data, full_path):\n",
    "    # Define the output XML file path\n",
    "    output_xml_file = full_path\n",
    "    # Write the XML data to a new file\n",
    "    with open(output_xml_file, 'w') as xml_file:\n",
    "        xml_file.write(data.decode('UTF-8'))\n",
    "\n",
    "# Open the HDF5 file for reading\n",
    "with h5py.File(full_path, \"r\") as f:\n",
    "    # Print all root level object names (aka keys) \n",
    "    # these can be group or dataset names \n",
    "    print(\"Keys: %s\" % f.keys())\n",
    "\n",
    "    # List all the groups in the file\n",
    "    print(\"\\nGroups in the HDF5 file:\")\n",
    "    print(list(f.keys()))\n",
    "\n",
    "    # Print all the groups and datasets\n",
    "    print(\"\\nGroups and datasets in the HDF5 file:\")\n",
    "    for key in f.keys():\n",
    "        print(key, f[key])\n",
    "    # Print all the datasets in the RawData group\n",
    "    print(\"\\nDatasets in the RawData group:\")\n",
    "    print(list(f['RawData'].keys()))\n",
    "\n",
    "    # Access a specific group\n",
    "    data_samples = f['RawData']['Samples'][:]\n",
    "    # Get all the data under the RawData group\n",
    "    data_raw = f['RawData']\n",
    "    # Print all the subgroups and datasets in the RawData group\n",
    "    print(\"\\nSubgroups and datasets in the RawData group:\")\n",
    "    for key in data_raw.keys():\n",
    "        # Save the XML data to a new file except for the Samples dataset\n",
    "        if key != 'Samples':\n",
    "            data = data_raw[key][:][0]\n",
    "            SaveXML(data, full_path + key + \".xml\")\n",
    "    f.close()\n"
   ]
  },
  {
   "cell_type": "markdown",
   "metadata": {},
   "source": [
    "# Export XML from Asynchron Data\n",
    "For Neck Movement Data"
   ]
  },
  {
   "cell_type": "code",
   "execution_count": 26,
   "metadata": {},
   "outputs": [
    {
     "name": "stdout",
     "output_type": "stream",
     "text": [
      "Keys: <KeysViewHDF5 ['AsynchronData', 'RawData', 'SavedFeatues', 'Version']>\n",
      "\n",
      "Groups in the HDF5 file:\n",
      "['AsynchronData', 'RawData', 'SavedFeatues', 'Version']\n",
      "\n",
      "Groups and datasets in the HDF5 file:\n",
      "AsynchronData <HDF5 group \"/AsynchronData\" (4 members)>\n",
      "RawData <HDF5 group \"/RawData\" (6 members)>\n",
      "SavedFeatues <HDF5 group \"/SavedFeatues\" (1 members)>\n",
      "Version <HDF5 group \"/Version\" (1 members)>\n",
      "\n",
      "Datasets in the AsynchronData group:\n",
      "['AsynchronSignalTypes', 'Time', 'TypeID', 'Value']\n",
      "\n",
      "Subgroups and datasets in the AsynchronData group:\n"
     ]
    }
   ],
   "source": [
    "filename = \"neck movement bottom left2024.03.01_10.53.24.hdf5\"\n",
    "# filename = \"neck movement bottom right2024.03.01_10.43.37.hdf5\"\n",
    "full_path = datafile_path + filename\n",
    "\n",
    "# Open the HDF5 file for reading\n",
    "with h5py.File(full_path, \"r\") as f:\n",
    "    # Print all root level object names (aka keys) \n",
    "    # these can be group or dataset names \n",
    "    print(\"Keys: %s\" % f.keys())\n",
    "\n",
    "    # List all the groups in the file\n",
    "    print(\"\\nGroups in the HDF5 file:\")\n",
    "    print(list(f.keys()))\n",
    "\n",
    "    # Print all the groups and datasets\n",
    "    print(\"\\nGroups and datasets in the HDF5 file:\")\n",
    "    for key in f.keys():\n",
    "        print(key, f[key])\n",
    "    # Print al the datasets in the RawData group\n",
    "    print(\"\\nDatasets in the AsynchronData group:\")\n",
    "    print(list(f['AsynchronData'].keys()))\n",
    "\n",
    "    # Access a specific group\n",
    "    # data_samples = f['AsynchronData']['AsynchronSignalTypes'][:]\n",
    "    data_asynchron_times = f['AsynchronData']['Time'][:]\n",
    "    data_asynchron_typeid = f['AsynchronData']['TypeID'][:]\n",
    "    data_asynchron_value = f['AsynchronData']['Value'][:]\n",
    "\n",
    "    data_asynchron = f['AsynchronData']\n",
    "    # Print all the subgroups and datasets in the RawData group\n",
    "    print(\"\\nSubgroups and datasets in the AsynchronData group:\")\n",
    "    for key in data_asynchron.keys():\n",
    "        # Save the XML data to a new file except for the Samples dataset\n",
    "        if key == 'AsynchronSignalTypes':\n",
    "            data = data_asynchron[key][:][0]\n",
    "            SaveXML(data, full_path + key + \".xml\")\n",
    "    f.close()\n"
   ]
  },
  {
   "cell_type": "markdown",
   "metadata": {},
   "source": [
    "# Trigger Data\n",
    "\n",
    "<img src=\"../../data/Neck Movement Left.png\" alt=\"Neck Movement Left Data with Triggers\" />"
   ]
  },
  {
   "cell_type": "code",
   "execution_count": 17,
   "metadata": {},
   "outputs": [
    {
     "data": {
      "text/plain": [
       "array([[ 77.8046875 ],\n",
       "       [ 89.90820312],\n",
       "       [101.99414062],\n",
       "       [113.09570312],\n",
       "       [124.19335938],\n",
       "       [137.296875  ],\n",
       "       [148.3984375 ],\n",
       "       [161.50195312],\n",
       "       [172.60546875],\n",
       "       [183.70898438],\n",
       "       [194.79492188],\n",
       "       [205.91601562],\n",
       "       [217.0234375 ],\n",
       "       [228.11523438]])"
      ]
     },
     "execution_count": 17,
     "metadata": {},
     "output_type": "execute_result"
    }
   ],
   "source": [
    "data_asynchron_times = data_asynchron_times / 512\n",
    "data_asynchron_times"
   ]
  },
  {
   "cell_type": "code",
   "execution_count": 18,
   "metadata": {},
   "outputs": [],
   "source": [
    "# Data groups and datasets visualization\n",
    "data_dict = {\n",
    "    'AsynchronData': {\n",
    "        0: 'AsynchronSignalTypes',\n",
    "        1: 'Time',      # Neck movement only\n",
    "        2: 'TypeID',    # Neck movement only\n",
    "        3: 'Value',     # Neck movement only\n",
    "    }, \n",
    "    'RawData': {\n",
    "        0: 'AcquisitionTaskDescription',\n",
    "        1: 'DAQDeviceCapabilities',\n",
    "        2: 'DAQDeviceDescription',\n",
    "        3: 'Samples',\n",
    "        4: 'SessionDescription',\n",
    "        5: 'SubjectDescription',\n",
    "    },\n",
    "    \"SavedFeatues\": \"NumberOfFeatures\",     # [0]\n",
    "    \"Version\": \"Version\",                   # [b'0.5']\n",
    "}"
   ]
  }
 ],
 "metadata": {
  "kernelspec": {
   "display_name": "Python 3",
   "language": "python",
   "name": "python3"
  },
  "language_info": {
   "codemirror_mode": {
    "name": "ipython",
    "version": 3
   },
   "file_extension": ".py",
   "mimetype": "text/x-python",
   "name": "python",
   "nbconvert_exporter": "python",
   "pygments_lexer": "ipython3",
   "version": "3.10.2"
  }
 },
 "nbformat": 4,
 "nbformat_minor": 2
}
